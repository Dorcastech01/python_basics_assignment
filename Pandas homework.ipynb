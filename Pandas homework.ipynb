{
 "cells": [
  {
   "cell_type": "markdown",
   "id": "d1e5a1ee",
   "metadata": {},
   "source": [
    "<h1>Tackling an open problem</h1>\n",
    "\n",
    "For this homework the idea is to hone our skills on exploring and plotting a dataset. You can either work with the Pokemon dataset that was given or download your own. If you opt to download your own I recommend you use one of the datasets available on kaggle,\n",
    "\n",
    "https://www.kaggle.com/datasets\n",
    "\n",
    "As they tend to be found in a clean format and are generally free to use.\n",
    "\n",
    "Largely, the main objective is learning how to search the internet for new implementations you want to use on your code helping you develop your self-confidence.\n",
    "\n",
    "There's no right or wrong, pick a dataset you enjoy and try to have some fun.\n",
    "If you need, use the notebook from the previous session as a guideline.\n"
   ]
  },
  {
   "cell_type": "code",
   "execution_count": 1,
   "id": "383c1464",
   "metadata": {},
   "outputs": [],
   "source": [
    "import pandas as pd\n",
    "import matplotlib.pyplot as plt\n",
    "import numpy as np"
   ]
  },
  {
   "cell_type": "code",
   "execution_count": 4,
   "id": "db328053-0cfa-46b0-b53a-964c60df697c",
   "metadata": {},
   "outputs": [],
   "source": [
    "olympics_df = pd.read_csv('Datasets/olympics2024.csv', sep=',')"
   ]
  },
  {
   "cell_type": "code",
   "execution_count": 5,
   "id": "15d9c379-c620-45a5-9a0a-9dcc10d39add",
   "metadata": {},
   "outputs": [
    {
     "name": "stdout",
     "output_type": "stream",
     "text": [
      "    Rank        Country Country Code  Gold  Silver  Bronze  Total\n",
      "0      1  United States           US    40      44      42    126\n",
      "1      2          China          CHN    40      27      24     91\n",
      "2      3          Japan          JPN    20      12      13     45\n",
      "3      4      Australia          AUS    18      19      16     53\n",
      "4      5         France          FRA    16      26      22     64\n",
      "..   ...            ...          ...   ...     ...     ...    ...\n",
      "86    84           Peru          PER     0       0       1      1\n",
      "87    84          Qatar          QAT     0       0       1      1\n",
      "88    84      Singapore          SIN     0       0       1      1\n",
      "89    84       Slovakia          SVK     0       0       1      1\n",
      "90    84         Zambia          ZAM     0       0       1      1\n",
      "\n",
      "[91 rows x 7 columns]\n"
     ]
    }
   ],
   "source": [
    "print(olympics_df)"
   ]
  },
  {
   "cell_type": "code",
   "execution_count": 6,
   "id": "478d13bf-ca5e-44fa-a89e-c986ac917d47",
   "metadata": {},
   "outputs": [
    {
     "data": {
      "text/plain": [
       "(91, 7)"
      ]
     },
     "execution_count": 6,
     "metadata": {},
     "output_type": "execute_result"
    }
   ],
   "source": [
    "olympics_df.shape"
   ]
  },
  {
   "cell_type": "code",
   "execution_count": 7,
   "id": "1a0020cf-4b9e-42d5-a752-5c86c6e0e4ed",
   "metadata": {},
   "outputs": [
    {
     "data": {
      "text/plain": [
       "Rank             int64\n",
       "Country         object\n",
       "Country Code    object\n",
       "Gold             int64\n",
       "Silver           int64\n",
       "Bronze           int64\n",
       "Total            int64\n",
       "dtype: object"
      ]
     },
     "execution_count": 7,
     "metadata": {},
     "output_type": "execute_result"
    }
   ],
   "source": [
    "olympics_df.dtypes"
   ]
  },
  {
   "cell_type": "code",
   "execution_count": 10,
   "id": "0f9fa8a8-3d70-4578-a3a7-437b2c6190bf",
   "metadata": {},
   "outputs": [
    {
     "data": {
      "text/html": [
       "<div>\n",
       "<style scoped>\n",
       "    .dataframe tbody tr th:only-of-type {\n",
       "        vertical-align: middle;\n",
       "    }\n",
       "\n",
       "    .dataframe tbody tr th {\n",
       "        vertical-align: top;\n",
       "    }\n",
       "\n",
       "    .dataframe thead th {\n",
       "        text-align: right;\n",
       "    }\n",
       "</style>\n",
       "<table border=\"1\" class=\"dataframe\">\n",
       "  <thead>\n",
       "    <tr style=\"text-align: right;\">\n",
       "      <th></th>\n",
       "      <th>Gold</th>\n",
       "      <th>Silver</th>\n",
       "      <th>Bronze</th>\n",
       "    </tr>\n",
       "  </thead>\n",
       "  <tbody>\n",
       "    <tr>\n",
       "      <th>0</th>\n",
       "      <td>40</td>\n",
       "      <td>44</td>\n",
       "      <td>42</td>\n",
       "    </tr>\n",
       "    <tr>\n",
       "      <th>1</th>\n",
       "      <td>40</td>\n",
       "      <td>27</td>\n",
       "      <td>24</td>\n",
       "    </tr>\n",
       "    <tr>\n",
       "      <th>2</th>\n",
       "      <td>20</td>\n",
       "      <td>12</td>\n",
       "      <td>13</td>\n",
       "    </tr>\n",
       "    <tr>\n",
       "      <th>3</th>\n",
       "      <td>18</td>\n",
       "      <td>19</td>\n",
       "      <td>16</td>\n",
       "    </tr>\n",
       "    <tr>\n",
       "      <th>4</th>\n",
       "      <td>16</td>\n",
       "      <td>26</td>\n",
       "      <td>22</td>\n",
       "    </tr>\n",
       "    <tr>\n",
       "      <th>...</th>\n",
       "      <td>...</td>\n",
       "      <td>...</td>\n",
       "      <td>...</td>\n",
       "    </tr>\n",
       "    <tr>\n",
       "      <th>86</th>\n",
       "      <td>0</td>\n",
       "      <td>0</td>\n",
       "      <td>1</td>\n",
       "    </tr>\n",
       "    <tr>\n",
       "      <th>87</th>\n",
       "      <td>0</td>\n",
       "      <td>0</td>\n",
       "      <td>1</td>\n",
       "    </tr>\n",
       "    <tr>\n",
       "      <th>88</th>\n",
       "      <td>0</td>\n",
       "      <td>0</td>\n",
       "      <td>1</td>\n",
       "    </tr>\n",
       "    <tr>\n",
       "      <th>89</th>\n",
       "      <td>0</td>\n",
       "      <td>0</td>\n",
       "      <td>1</td>\n",
       "    </tr>\n",
       "    <tr>\n",
       "      <th>90</th>\n",
       "      <td>0</td>\n",
       "      <td>0</td>\n",
       "      <td>1</td>\n",
       "    </tr>\n",
       "  </tbody>\n",
       "</table>\n",
       "<p>91 rows × 3 columns</p>\n",
       "</div>"
      ],
      "text/plain": [
       "    Gold  Silver  Bronze\n",
       "0     40      44      42\n",
       "1     40      27      24\n",
       "2     20      12      13\n",
       "3     18      19      16\n",
       "4     16      26      22\n",
       "..   ...     ...     ...\n",
       "86     0       0       1\n",
       "87     0       0       1\n",
       "88     0       0       1\n",
       "89     0       0       1\n",
       "90     0       0       1\n",
       "\n",
       "[91 rows x 3 columns]"
      ]
     },
     "execution_count": 10,
     "metadata": {},
     "output_type": "execute_result"
    }
   ],
   "source": [
    "olympics_df[['Gold', 'Silver', 'Bronze']]"
   ]
  },
  {
   "cell_type": "code",
   "execution_count": 11,
   "id": "1d0b150f-a7f1-4c60-a6ab-934e9ab63dea",
   "metadata": {},
   "outputs": [
    {
     "data": {
      "text/plain": [
       "<bound method NDFrame.describe of     Gold  Silver  Bronze\n",
       "0     40      44      42\n",
       "1     40      27      24\n",
       "2     20      12      13\n",
       "3     18      19      16\n",
       "4     16      26      22\n",
       "..   ...     ...     ...\n",
       "86     0       0       1\n",
       "87     0       0       1\n",
       "88     0       0       1\n",
       "89     0       0       1\n",
       "90     0       0       1\n",
       "\n",
       "[91 rows x 3 columns]>"
      ]
     },
     "execution_count": 11,
     "metadata": {},
     "output_type": "execute_result"
    }
   ],
   "source": [
    "olympics_df[['Gold', 'Silver', 'Bronze']].describe"
   ]
  },
  {
   "cell_type": "code",
   "execution_count": 16,
   "id": "743ff94c-cd84-4d79-bc16-b535824664cf",
   "metadata": {},
   "outputs": [
    {
     "data": {
      "text/plain": [
       "Country\n",
       "United States     1\n",
       "Kyrgyzstan        1\n",
       "Colombia          1\n",
       "Armenia           1\n",
       "Mexico            1\n",
       "                 ..\n",
       "Denmark           1\n",
       "Czech Republic    1\n",
       "Serbia            1\n",
       "Bulgaria          1\n",
       "Zambia            1\n",
       "Name: count, Length: 91, dtype: int64"
      ]
     },
     "execution_count": 16,
     "metadata": {},
     "output_type": "execute_result"
    }
   ],
   "source": [
    "olympics_df['Country'].value_counts()"
   ]
  },
  {
   "cell_type": "code",
   "execution_count": 18,
   "id": "e609762f-8d8b-4aef-9d86-1f6a1c176f00",
   "metadata": {},
   "outputs": [
    {
     "data": {
      "text/plain": [
       "count    91.000000\n",
       "mean      3.604396\n",
       "std       6.990278\n",
       "min       0.000000\n",
       "25%       0.000000\n",
       "50%       1.000000\n",
       "75%       3.000000\n",
       "max      40.000000\n",
       "Name: Gold, dtype: float64"
      ]
     },
     "execution_count": 18,
     "metadata": {},
     "output_type": "execute_result"
    }
   ],
   "source": [
    "olympics_df['Gold'].describe()"
   ]
  },
  {
   "cell_type": "code",
   "execution_count": 19,
   "id": "7b6314f9-ce14-4437-9a49-bab2037cc5ab",
   "metadata": {},
   "outputs": [
    {
     "data": {
      "text/html": [
       "<div>\n",
       "<style scoped>\n",
       "    .dataframe tbody tr th:only-of-type {\n",
       "        vertical-align: middle;\n",
       "    }\n",
       "\n",
       "    .dataframe tbody tr th {\n",
       "        vertical-align: top;\n",
       "    }\n",
       "\n",
       "    .dataframe thead th {\n",
       "        text-align: right;\n",
       "    }\n",
       "</style>\n",
       "<table border=\"1\" class=\"dataframe\">\n",
       "  <thead>\n",
       "    <tr style=\"text-align: right;\">\n",
       "      <th></th>\n",
       "      <th>Rank</th>\n",
       "      <th>Gold</th>\n",
       "      <th>Silver</th>\n",
       "      <th>Bronze</th>\n",
       "      <th>Total</th>\n",
       "    </tr>\n",
       "  </thead>\n",
       "  <tbody>\n",
       "    <tr>\n",
       "      <th>count</th>\n",
       "      <td>91.000000</td>\n",
       "      <td>91.000000</td>\n",
       "      <td>91.000000</td>\n",
       "      <td>91.000000</td>\n",
       "      <td>91.000000</td>\n",
       "    </tr>\n",
       "    <tr>\n",
       "      <th>mean</th>\n",
       "      <td>45.307692</td>\n",
       "      <td>3.604396</td>\n",
       "      <td>3.593407</td>\n",
       "      <td>4.219780</td>\n",
       "      <td>11.417582</td>\n",
       "    </tr>\n",
       "    <tr>\n",
       "      <th>std</th>\n",
       "      <td>25.652244</td>\n",
       "      <td>6.990278</td>\n",
       "      <td>6.770816</td>\n",
       "      <td>6.558798</td>\n",
       "      <td>19.702829</td>\n",
       "    </tr>\n",
       "    <tr>\n",
       "      <th>min</th>\n",
       "      <td>1.000000</td>\n",
       "      <td>0.000000</td>\n",
       "      <td>0.000000</td>\n",
       "      <td>0.000000</td>\n",
       "      <td>1.000000</td>\n",
       "    </tr>\n",
       "    <tr>\n",
       "      <th>25%</th>\n",
       "      <td>23.500000</td>\n",
       "      <td>0.000000</td>\n",
       "      <td>0.000000</td>\n",
       "      <td>1.000000</td>\n",
       "      <td>2.000000</td>\n",
       "    </tr>\n",
       "    <tr>\n",
       "      <th>50%</th>\n",
       "      <td>44.000000</td>\n",
       "      <td>1.000000</td>\n",
       "      <td>1.000000</td>\n",
       "      <td>2.000000</td>\n",
       "      <td>5.000000</td>\n",
       "    </tr>\n",
       "    <tr>\n",
       "      <th>75%</th>\n",
       "      <td>68.000000</td>\n",
       "      <td>3.000000</td>\n",
       "      <td>3.000000</td>\n",
       "      <td>5.000000</td>\n",
       "      <td>9.000000</td>\n",
       "    </tr>\n",
       "    <tr>\n",
       "      <th>max</th>\n",
       "      <td>84.000000</td>\n",
       "      <td>40.000000</td>\n",
       "      <td>44.000000</td>\n",
       "      <td>42.000000</td>\n",
       "      <td>126.000000</td>\n",
       "    </tr>\n",
       "  </tbody>\n",
       "</table>\n",
       "</div>"
      ],
      "text/plain": [
       "            Rank       Gold     Silver     Bronze       Total\n",
       "count  91.000000  91.000000  91.000000  91.000000   91.000000\n",
       "mean   45.307692   3.604396   3.593407   4.219780   11.417582\n",
       "std    25.652244   6.990278   6.770816   6.558798   19.702829\n",
       "min     1.000000   0.000000   0.000000   0.000000    1.000000\n",
       "25%    23.500000   0.000000   0.000000   1.000000    2.000000\n",
       "50%    44.000000   1.000000   1.000000   2.000000    5.000000\n",
       "75%    68.000000   3.000000   3.000000   5.000000    9.000000\n",
       "max    84.000000  40.000000  44.000000  42.000000  126.000000"
      ]
     },
     "execution_count": 19,
     "metadata": {},
     "output_type": "execute_result"
    }
   ],
   "source": [
    "olympics_df.describe()"
   ]
  },
  {
   "cell_type": "code",
   "execution_count": 20,
   "id": "3cc79288-2859-4590-a2f6-dbe68d35ee3c",
   "metadata": {},
   "outputs": [
    {
     "data": {
      "text/plain": [
       "array([[<Axes: title={'center': 'Rank'}>,\n",
       "        <Axes: title={'center': 'Gold'}>],\n",
       "       [<Axes: title={'center': 'Silver'}>,\n",
       "        <Axes: title={'center': 'Bronze'}>],\n",
       "       [<Axes: title={'center': 'Total'}>, <Axes: >]], dtype=object)"
      ]
     },
     "execution_count": 20,
     "metadata": {},
     "output_type": "execute_result"
    },
    {
     "data": {
      "image/png": "[encoded data removed]",
      "text/plain": [
       "<Figure size 640x480 with 6 Axes>"
      ]
     },
     "metadata": {},
     "output_type": "display_data"
    }
   ],
   "source": [
    "olympics_df.hist()"
   ]
  },
  {
   "cell_type": "code",
   "execution_count": 21,
   "id": "0ba45909-3a9d-43d4-98a4-4f38313f31ab",
   "metadata": {},
   "outputs": [
    {
     "data": {
      "text/plain": [
       "<Axes: xlabel='Gold', ylabel='Silver'>"
      ]
     },
     "execution_count": 21,
     "metadata": {},
     "output_type": "execute_result"
    },
    {
     "data": {
      "image/png": "[encoded data removed]",
      "text/plain": [
       "<Figure size 1000x600 with 4 Axes>"
      ]
     },
     "metadata": {},
     "output_type": "display_data"
    }
   ],
   "source": [
    "# Create figure object and defining axes.\n",
    "fig, axes = plt.subplots(nrows=2, ncols=2, figsize=(10, 6))\n",
    "\n",
    "fig.suptitle('my list of plots')\n",
    "\n",
    "# Above all, notice the ax = ax[0,0].\n",
    "olympics_df.plot.scatter(x='Gold',y='Silver',s=1, c='black', ax=axes[0,0])\n",
    "olympics_df.plot.scatter(x='Gold',y='Silver', ax=axes[1,0])\n",
    "olympics_df.plot.scatter(x='Gold',y='Silver',s=1, c='black', ax=axes[0,1])\n",
    "olympics_df.plot.scatter(x='Gold',y='Silver', s=1, ax=axes[1,1])\n"
   ]
  },
  {
   "cell_type": "code",
   "execution_count": 29,
   "id": "12961804-d559-4bc7-abda-aab5b9f1e047",
   "metadata": {},
   "outputs": [
    {
     "data": {
      "text/plain": [
       "Text(0.5, 1.0, 'Bronze')"
      ]
     },
     "execution_count": 29,
     "metadata": {},
     "output_type": "execute_result"
    },
    {
     "data": {
      "image/png": "[encoded data removed]",
      "text/plain": [
       "<Figure size 1200x600 with 3 Axes>"
      ]
     },
     "metadata": {},
     "output_type": "display_data"
    }
   ],
   "source": [
    "fig,axes = plt.subplots(nrows=1,ncols=3,figsize=(12,6))\n",
    "fig.suptitle('my list of plots')\n",
    "\n",
    "olympics_df['Gold'].plot.hist(ax=axes[0], bins=50, alpha=0.5, color='gold')\n",
    "axes[0].set_title('Gold')\n",
    "\n",
    "olympics_df['Silver'].plot.hist(ax=axes[1], bins=50, alpha=0.5, color='grey')\n",
    "axes[1].set_title('Silver')\n",
    "\n",
    "olympics_df['Bronze'].plot.hist(ax=axes[2], bins=50, alpha=0.5, color='brown')\n",
    "axes[2].set_title('Bronze')"
   ]
  },
  {
   "cell_type": "code",
   "execution_count": 30,
   "id": "22e68769-5be8-4799-aeb5-2a3e0dcced03",
   "metadata": {},
   "outputs": [
    {
     "data": {
      "text/plain": [
       "44"
      ]
     },
     "execution_count": 30,
     "metadata": {},
     "output_type": "execute_result"
    }
   ],
   "source": [
    "np.max(olympics_df['Silver'])"
   ]
  },
  {
   "cell_type": "code",
   "execution_count": null,
   "id": "aab868df-419a-4cc0-bdcb-ddde9a5da991",
   "metadata": {},
   "outputs": [],
   "source": []
  }
 ],
 "metadata": {
  "kernelspec": {
   "display_name": "Python 3 (ipykernel)",
   "language": "python",
   "name": "python3"
  },
  "language_info": {
   "codemirror_mode": {
    "name": "ipython",
    "version": 3
   },
   "file_extension": ".py",
   "mimetype": "text/x-python",
   "name": "python",
   "nbconvert_exporter": "python",
   "pygments_lexer": "ipython3",
   "version": "3.12.4"
  }
 },
 "nbformat": 4,
 "nbformat_minor": 5
}
